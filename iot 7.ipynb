{
  "nbformat": 4,
  "nbformat_minor": 0,
  "metadata": {
    "colab": {
      "name": "Untitled0.ipynb",
      "provenance": [],
      "authorship_tag": "ABX9TyOXWlAWd7yTJ7qcrm4VoKgI",
      "include_colab_link": true
    },
    "kernelspec": {
      "name": "python3",
      "display_name": "Python 3"
    }
  },
  "cells": [
    {
      "cell_type": "markdown",
      "metadata": {
        "id": "view-in-github",
        "colab_type": "text"
      },
      "source": [
        "<a href=\"https://colab.research.google.com/github/raunaqbedi10/TSF-Internship-Task/blob/master/iot%207.ipynb\" target=\"_parent\"><img src=\"https://colab.research.google.com/assets/colab-badge.svg\" alt=\"Open In Colab\"/></a>"
      ]
    },
    {
      "cell_type": "markdown",
      "metadata": {
        "id": "hH421jlMPWrp"
      },
      "source": [
        "\r\n",
        "**|| THE SPARK FOUNDATION || GRIP ||**\r\n",
        "\r\n",
        "**TASK 1 - COLOR IDENTIFICATION IN IMAGES**\r\n",
        "\r\n",
        "**BY : Raunaq Bedi**\r\n",
        "\r\n",
        "**Import libraries**"
      ]
    },
    {
      "cell_type": "code",
      "metadata": {
        "id": "7VuWAeu5PUlA"
      },
      "source": [
        "from sklearn.cluster import KMeans\r\n",
        "import matplotlib.pyplot as plt\r\n",
        "import numpy as np\r\n",
        "import cv2\r\n",
        "from collections import Counter\r\n",
        "from skimage.color import rgb2lab, deltaE_cie76\r\n",
        "import os"
      ],
      "execution_count": 1,
      "outputs": []
    },
    {
      "cell_type": "markdown",
      "metadata": {
        "id": "lYXu9DPRPhrI"
      },
      "source": [
        "\r\n",
        "**Read the sample image**"
      ]
    },
    {
      "cell_type": "code",
      "metadata": {
        "colab": {
          "base_uri": "https://localhost:8080/",
          "height": 232
        },
        "id": "i_i6D-UIPe6c",
        "outputId": "1b86d9d2-5fbf-444a-aee2-4de356cddbbd"
      },
      "source": [
        "image = cv2.imread('sample.jpeg')\r\n",
        "print(\"The type of this input is {}\".format(type(image)))\r\n",
        "print(\"Shape: {}\".format(image.shape))\r\n",
        "plt.imshow(image);"
      ],
      "execution_count": 2,
      "outputs": [
        {
          "output_type": "stream",
          "text": [
            "The type of this input is <class 'NoneType'>\n"
          ],
          "name": "stdout"
        },
        {
          "output_type": "error",
          "ename": "AttributeError",
          "evalue": "ignored",
          "traceback": [
            "\u001b[0;31m---------------------------------------------------------------------------\u001b[0m",
            "\u001b[0;31mAttributeError\u001b[0m                            Traceback (most recent call last)",
            "\u001b[0;32m<ipython-input-2-a45659212941>\u001b[0m in \u001b[0;36m<module>\u001b[0;34m()\u001b[0m\n\u001b[1;32m      1\u001b[0m \u001b[0mimage\u001b[0m \u001b[0;34m=\u001b[0m \u001b[0mcv2\u001b[0m\u001b[0;34m.\u001b[0m\u001b[0mimread\u001b[0m\u001b[0;34m(\u001b[0m\u001b[0;34m'sample.jpeg'\u001b[0m\u001b[0;34m)\u001b[0m\u001b[0;34m\u001b[0m\u001b[0;34m\u001b[0m\u001b[0m\n\u001b[1;32m      2\u001b[0m \u001b[0mprint\u001b[0m\u001b[0;34m(\u001b[0m\u001b[0;34m\"The type of this input is {}\"\u001b[0m\u001b[0;34m.\u001b[0m\u001b[0mformat\u001b[0m\u001b[0;34m(\u001b[0m\u001b[0mtype\u001b[0m\u001b[0;34m(\u001b[0m\u001b[0mimage\u001b[0m\u001b[0;34m)\u001b[0m\u001b[0;34m)\u001b[0m\u001b[0;34m)\u001b[0m\u001b[0;34m\u001b[0m\u001b[0;34m\u001b[0m\u001b[0m\n\u001b[0;32m----> 3\u001b[0;31m \u001b[0mprint\u001b[0m\u001b[0;34m(\u001b[0m\u001b[0;34m\"Shape: {}\"\u001b[0m\u001b[0;34m.\u001b[0m\u001b[0mformat\u001b[0m\u001b[0;34m(\u001b[0m\u001b[0mimage\u001b[0m\u001b[0;34m.\u001b[0m\u001b[0mshape\u001b[0m\u001b[0;34m)\u001b[0m\u001b[0;34m)\u001b[0m\u001b[0;34m\u001b[0m\u001b[0;34m\u001b[0m\u001b[0m\n\u001b[0m\u001b[1;32m      4\u001b[0m \u001b[0mplt\u001b[0m\u001b[0;34m.\u001b[0m\u001b[0mimshow\u001b[0m\u001b[0;34m(\u001b[0m\u001b[0mimage\u001b[0m\u001b[0;34m)\u001b[0m\u001b[0;34m;\u001b[0m\u001b[0;34m\u001b[0m\u001b[0;34m\u001b[0m\u001b[0m\n",
            "\u001b[0;31mAttributeError\u001b[0m: 'NoneType' object has no attribute 'shape'"
          ]
        }
      ]
    },
    {
      "cell_type": "markdown",
      "metadata": {
        "id": "0GlBMJ1DPk9E"
      },
      "source": [
        "\r\n",
        "**Conversion from BGR to RGB**"
      ]
    },
    {
      "cell_type": "code",
      "metadata": {
        "colab": {
          "base_uri": "https://localhost:8080/",
          "height": 198
        },
        "id": "k2BK5aD6Pj2Q",
        "outputId": "31f238a5-cb20-47fe-e018-47f675b27f6c"
      },
      "source": [
        "image = cv2.cvtColor(image, cv2.COLOR_BGR2RGB)\r\n",
        "plt.imshow(image);"
      ],
      "execution_count": 3,
      "outputs": [
        {
          "output_type": "error",
          "ename": "error",
          "evalue": "ignored",
          "traceback": [
            "\u001b[0;31m---------------------------------------------------------------------------\u001b[0m",
            "\u001b[0;31merror\u001b[0m                                     Traceback (most recent call last)",
            "\u001b[0;32m<ipython-input-3-bda4f780c306>\u001b[0m in \u001b[0;36m<module>\u001b[0;34m()\u001b[0m\n\u001b[0;32m----> 1\u001b[0;31m \u001b[0mimage\u001b[0m \u001b[0;34m=\u001b[0m \u001b[0mcv2\u001b[0m\u001b[0;34m.\u001b[0m\u001b[0mcvtColor\u001b[0m\u001b[0;34m(\u001b[0m\u001b[0mimage\u001b[0m\u001b[0;34m,\u001b[0m \u001b[0mcv2\u001b[0m\u001b[0;34m.\u001b[0m\u001b[0mCOLOR_BGR2RGB\u001b[0m\u001b[0;34m)\u001b[0m\u001b[0;34m\u001b[0m\u001b[0;34m\u001b[0m\u001b[0m\n\u001b[0m\u001b[1;32m      2\u001b[0m \u001b[0mplt\u001b[0m\u001b[0;34m.\u001b[0m\u001b[0mimshow\u001b[0m\u001b[0;34m(\u001b[0m\u001b[0mimage\u001b[0m\u001b[0;34m)\u001b[0m\u001b[0;34m;\u001b[0m\u001b[0;34m\u001b[0m\u001b[0;34m\u001b[0m\u001b[0m\n",
            "\u001b[0;31merror\u001b[0m: OpenCV(4.1.2) /io/opencv/modules/imgproc/src/color.cpp:182: error: (-215:Assertion failed) !_src.empty() in function 'cvtColor'\n"
          ]
        }
      ]
    },
    {
      "cell_type": "markdown",
      "metadata": {
        "id": "elz5YP0kPrZn"
      },
      "source": [
        "\r\n",
        " **Conversion to gray image**"
      ]
    },
    {
      "cell_type": "code",
      "metadata": {
        "id": "im7dDRKgQC6O"
      },
      "source": [
        "gray_image = cv2.cvtColor(image, cv2.COLOR_BGR2GRAY)\r\n",
        "plt.imshow(gray_image, cmap='gray');"
      ],
      "execution_count": null,
      "outputs": []
    },
    {
      "cell_type": "code",
      "metadata": {
        "id": "bvvtxRjPQFrh"
      },
      "source": [
        "resized_image = cv2.resize(image, (1200, 600))\r\n",
        "plt.imshow(resized_image);"
      ],
      "execution_count": null,
      "outputs": []
    },
    {
      "cell_type": "markdown",
      "metadata": {
        "id": "5OIfVi8EQGMD"
      },
      "source": [
        "\r\n",
        "**RGB to Hex Conversion**"
      ]
    },
    {
      "cell_type": "code",
      "metadata": {
        "id": "ZZ7XvD2XQJis"
      },
      "source": [
        "\r\n",
        "def RGB2HEX(color):\r\n",
        "    return \"#{:02x}{:02x}{:02x}\".format(int(color[0]), int(color[1]), int(color[2]))"
      ],
      "execution_count": null,
      "outputs": []
    },
    {
      "cell_type": "code",
      "metadata": {
        "id": "nPgT0iVjQ69-"
      },
      "source": [
        "def get_image(image_path):\r\n",
        "    image = cv2.imread(image_path)\r\n",
        "    image = cv2.cvtColor(image, cv2.COLOR_BGR2RGB)\r\n",
        "    return image"
      ],
      "execution_count": null,
      "outputs": []
    },
    {
      "cell_type": "code",
      "metadata": {
        "id": "Tvsiycl5Q9qG"
      },
      "source": [
        "def get_colors(image,number_of_colors,show_chart):\r\n",
        "    modified_image = cv2.resize(image, (600, 400), interpolation = cv2.INTER_AREA)\r\n",
        "    modified_image = modified_image.reshape(modified_image.shape[0]*modified_image.shape[1], 3)\r\n",
        "    clf = KMeans(n_clusters = number_of_colors)\r\n",
        "    labels = clf.fit_predict(modified_image)\r\n",
        "    counts = Counter(labels)\r\n",
        "\r\n",
        "    center_colors = clf.cluster_centers_\r\n",
        "    # We get ordered colors by iterating through the keys\r\n",
        "    ordered_colors = [center_colors[i] for i in counts.keys()]\r\n",
        "    hex_colors = [RGB2HEX(ordered_colors[i]) for i in counts.keys()]\r\n",
        "    rgb_colors = [ordered_colors[i] for i in counts.keys()]\r\n",
        "\r\n",
        "    if (show_chart):\r\n",
        "        plt.figure(figsize = (8, 6))\r\n",
        "        plt.pie(counts.values(), labels = hex_colors, colors = hex_colors)\r\n",
        "\r\n",
        "    return rgb_colors"
      ],
      "execution_count": null,
      "outputs": []
    },
    {
      "cell_type": "markdown",
      "metadata": {
        "id": "VMjqe0QgRAie"
      },
      "source": [
        "\r\n",
        "**pie chart appears with top 8 colors of the image.**"
      ]
    },
    {
      "cell_type": "code",
      "metadata": {
        "id": "j5urwvSARCWd"
      },
      "source": [
        "\r\n",
        "get_colors(get_image('sample.jpeg'), 8, True)"
      ],
      "execution_count": null,
      "outputs": []
    },
    {
      "cell_type": "code",
      "metadata": {
        "id": "06ffMM2xRGKe"
      },
      "source": [
        "\r\n",
        "IMAGE_DIRECTORY = 'images'\r\n",
        "COLORS = {\r\n",
        "    'GREEN': [0, 128, 0],\r\n",
        "    'BLUE': [0, 0, 128],\r\n",
        "    'YELLOW': [255, 255, 0]\r\n",
        "}\r\n",
        "images = []\r\n",
        "\r\n",
        "for file in os.listdir(IMAGE_DIRECTORY):\r\n",
        "    if not file.startswith('.'):\r\n",
        "        images.append(get_image(os.path.join(IMAGE_DIRECTORY, file)))"
      ],
      "execution_count": null,
      "outputs": []
    },
    {
      "cell_type": "code",
      "metadata": {
        "id": "10TFEHKpRG5t"
      },
      "source": [
        "plt.figure(figsize=(20, 10))\r\n",
        "for i in range(len(images)):\r\n",
        "    plt.subplot(1, len(images), i+1)\r\n",
        "    plt.imshow(images[i])"
      ],
      "execution_count": null,
      "outputs": []
    },
    {
      "cell_type": "markdown",
      "metadata": {
        "id": "_08fSb8oRJd0"
      },
      "source": [
        "\r\n",
        "**Match Images with color**"
      ]
    },
    {
      "cell_type": "code",
      "metadata": {
        "id": "iouu3ESBRQdY"
      },
      "source": [
        "def match_image_by_color(image, color, threshold = 60, number_of_colors = 10): \r\n",
        "    \r\n",
        "    image_colors = get_colors(image, number_of_colors, False)\r\n",
        "    selected_color = rgb2lab(np.uint8(np.asarray([[color]])))\r\n",
        "\r\n",
        "    select_image = False\r\n",
        "    for i in range(number_of_colors):\r\n",
        "        curr_color = rgb2lab(np.uint8(np.asarray([[image_colors[i]]])))\r\n",
        "        diff = deltaE_cie76(selected_color, curr_color)\r\n",
        "        if (diff < threshold):\r\n",
        "            select_image = True\r\n",
        "    \r\n",
        "    return select_image"
      ],
      "execution_count": null,
      "outputs": []
    },
    {
      "cell_type": "code",
      "metadata": {
        "id": "X3IHKn8QRSSQ"
      },
      "source": [
        "def show_selected_images(images, color, threshold, colors_to_match):\r\n",
        "    index = 1\r\n",
        "    \r\n",
        "    for i in range(len(images)):\r\n",
        "        selected = match_image_by_color(images[i],\r\n",
        "                                        color,\r\n",
        "                                        threshold,\r\n",
        "                                        colors_to_match)\r\n",
        "        if (selected):\r\n",
        "            plt.subplot(1, 5, index)\r\n",
        "            plt.imshow(images[i])\r\n",
        "            index += 1"
      ],
      "execution_count": null,
      "outputs": []
    },
    {
      "cell_type": "markdown",
      "metadata": {
        "id": "tWn3b2dGRT7Q"
      },
      "source": [
        "**Search for Yellow**"
      ]
    },
    {
      "cell_type": "code",
      "metadata": {
        "id": "Gc3haTBfRXOA"
      },
      "source": [
        "plt.figure(figsize = (20, 10))\r\n",
        "show_selected_images(images, COLORS['YELLOW'], 60, 5)"
      ],
      "execution_count": null,
      "outputs": []
    },
    {
      "cell_type": "markdown",
      "metadata": {
        "id": "cjciIPz9RZh6"
      },
      "source": [
        "**Search for Blue**"
      ]
    },
    {
      "cell_type": "code",
      "metadata": {
        "id": "32Kd4uSnRdGH"
      },
      "source": [
        "plt.figure(figsize = (20, 10))\r\n",
        "show_selected_images(images, COLORS['BLUE'], 60, 5)"
      ],
      "execution_count": null,
      "outputs": []
    },
    {
      "cell_type": "markdown",
      "metadata": {
        "id": "t1CUsBD_RfbM"
      },
      "source": [
        "**Search for Green**"
      ]
    },
    {
      "cell_type": "code",
      "metadata": {
        "id": "N9aE-OPrRiA0"
      },
      "source": [
        "plt.figure(figsize = (20, 10))\r\n",
        "show_selected_images(images, COLORS['GREEN'], 60, 5)"
      ],
      "execution_count": null,
      "outputs": []
    }
  ]
}